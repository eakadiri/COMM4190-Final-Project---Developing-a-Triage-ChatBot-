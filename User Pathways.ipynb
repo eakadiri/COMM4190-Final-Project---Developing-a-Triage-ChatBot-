{
 "cells": [
  {
   "cell_type": "markdown",
   "id": "fe6cba44-6bb6-45d9-a657-ec214b2702cc",
   "metadata": {},
   "source": [
    "# Use Cases \n",
    "\n",
    "To create some scenarios, I will be using mermaid. \n",
    "\n",
    "- The User represents a healthcare professional/patient depending on the severity of the patient's condition.\n",
    "- The TriageBot represents the AI tool.\n",
    "- The MedSearch represents PubMed \n"
   ]
  },
  {
   "cell_type": "code",
   "execution_count": 9,
   "id": "c746a9f9-7f00-440d-9caf-08c0ff75144e",
   "metadata": {},
   "outputs": [],
   "source": [
    "import sys\n",
    "import base64\n",
    "import zlib\n",
    "from IPython.display import Image,display,SVG"
   ]
  },
  {
   "cell_type": "code",
   "execution_count": 10,
   "id": "c36f7cc4-004c-4e1e-9b08-53e9f55f6333",
   "metadata": {},
   "outputs": [],
   "source": [
    "def mm(diagram):\n",
    "    encoded_diagram = base64.urlsafe_b64encode(zlib.compress(diagram.encode('utf-8'), 9)).decode('ascii')\n",
    "    dia_url = f'https://kroki.io/mermaid/svg/{encoded_diagram}'\n",
    "    display(Image(url=dia_url))"
   ]
  },
  {
   "cell_type": "code",
   "execution_count": 12,
   "id": "5c0128fc-a128-485a-a569-938b61ed18cf",
   "metadata": {},
   "outputs": [
    {
     "data": {
      "text/html": [
       "<img src=\"https://kroki.io/mermaid/svg/eNp1kc1Ow0AMhO99Ct-4tH2AHoqoQIgDCFVFiKOTuIlhf4rtUPH2eNu0tIfsIdJmxzPfzk6UvntKNd0ztoJxAr7elGS2XG7E_9Eq2wLuYIfGlAw6VEAR_qEG0MA6gof1HF7I95ahISOJnOhwItx2Bkq1cU4LeBSiNIUPCiHvp7CmZgpZYCPYR5yPRB-GgBW2LnVn_1IkaR2aSU9uZ0FuSNDoUjPm7PmnscDbQizko4lTex2BqRkgT3q7QD47zty-pCzgvfNqUI4lDM3dKOhv3FmOensNhDwAbf7VJQih7jg0sGfr4JPkq4AVlj7VOZnkELAKHuICV_ph3vpNYqWjYCtUv3RO8NpXz6X-J9C-bUmPL1kaGV7rXMtspJZjxh8-38TQ\"/>"
      ],
      "text/plain": [
       "<IPython.core.display.Image object>"
      ]
     },
     "metadata": {},
     "output_type": "display_data"
    }
   ],
   "source": [
    "dia1 = '''\n",
    "sequenceDiagram\n",
    "    User->>TriageBot: A patient has arrived at the ER. Need to determine the right section: Green, Yellow, Red, or Trauma.\n",
    "    User->>TriageBot: Green is for minor emergencies, Yellow is for moderate emergencies.\n",
    "    User->>TriageBot: Red is for life threatening emergencies, and Trauma is for trauma.\n",
    "    TriageBot-->>User: What are the patient's symptoms?\n",
    "    User->>TraigeBot: The patient is a child with jerking and uncontrollable twitching of limbs.\n",
    "    TriageBot-->>User: Based on PubMed, I suggest the Red section for life-threatening emergencies.\n",
    "    '''\n",
    "\n",
    "mm(dia1)"
   ]
  },
  {
   "cell_type": "markdown",
   "id": "2d4621ec-165c-45af-bb6f-dd3f280e8399",
   "metadata": {},
   "source": [
    "I will do an example where "
   ]
  },
  {
   "cell_type": "code",
   "execution_count": 13,
   "id": "19660592-2887-46a3-999c-f1103cd22fd6",
   "metadata": {},
   "outputs": [
    {
     "data": {
      "text/html": [
       "<img src=\"https://kroki.io/mermaid/svg/eNp1kcFOwzAQRO_9ir1xSfmAHoqokIBrVYQ4bpOJvVJih91Nq_49diIQl_pkj615O-ON4XtGavEiHJTHDZX1YdDtfn_SouGQfUfPNLELklNkI1aVCzq6ikdqI8zLtSTi1FEnfS_tPPiNzgr2KCk83nF9VSBRn5VGSVkb-sIw5Ouq5A7KjoaOhVQVwwVazifleeRF8mW72v_5bguksnb0GdnLsCCP-A3wYHQR54FMQrKnO5O9SYh0HnLuaFKYzcWkplOepKMIVj-XcHfJB7YydU4L2W7j5Hm0xeEfvKF3sjmE2l99V4MaWpe8ljJIj63H2iJSqZEwQkP5LIGt5B82cpi9\"/>"
      ],
      "text/plain": [
       "<IPython.core.display.Image object>"
      ]
     },
     "metadata": {},
     "output_type": "display_data"
    }
   ],
   "source": [
    "dia1 = '''\n",
    "sequenceDiagram\n",
    "    User->>TriageBot: A patient has arrived with chest pain and difficulty breathing.\n",
    "    User->>TriageBot: Green for minor, Yellow for moderate, Red for severe, Trauma for trauma.\n",
    "    TriageBot-->>User: What are the patient's vital signs?\n",
    "    User->>TriageBot: High blood pressure and rapid heartbeat.\n",
    "    TriageBot-->>User: Based on the symptoms and vital signs, I suggest the Red section for life-threatening emergencies.\n",
    "    '''\n",
    "\n",
    "mm(dia1)"
   ]
  },
  {
   "cell_type": "code",
   "execution_count": 14,
   "id": "e2950298-9c5d-46d9-8054-494c8bab321c",
   "metadata": {},
   "outputs": [
    {
     "data": {
      "text/html": [
       "<img src=\"https://kroki.io/mermaid/svg/eNp1kb1uwzAMhPc8BbcuTh8gQ4IGBYquQYoiI2GfZQH6cUjaQd--soz-LNYkHoTveKed4j4htXj17ITjjsr5UMj-eLxK0XDOdqAXGtk8ktHASiziZ3T08DaQJt_3AUVNHbU5joF9MqXclyk5qPmcNrBvAiTqs1D0KUtDN4SQH6uSOwgbGroUq0VRzJAyX4WnyFWyen2u-F_uvpgsXgf6HNjKtiAb8JPgSWn2xoHUu6Snjc0ucFNg2SSfWctWOVWyfsXRclwr-Adv6J10cksH9Z2rcRXtUslfbEKEuPIJHroafgOa-4p2\"/>"
      ],
      "text/plain": [
       "<IPython.core.display.Image object>"
      ]
     },
     "metadata": {},
     "output_type": "display_data"
    }
   ],
   "source": [
    "dia1 = '''\n",
    "sequenceDiagram\n",
    "    User->>TriageBot: A patient has arrived with sniffles and complaints of congestion\n",
    "    User->>TriageBot: Green for minor, Yellow for moderate, Red for severe, Trauma for trauma.\n",
    "    TriageBot-->>User: What are the patient's vital signs?\n",
    "    User->>TriageBot: Regular.\n",
    "    TriageBot-->>User: Based on the symptoms and vital signs, I suggest the green section for minor emergencies.\n",
    "    '''\n",
    "\n",
    "mm(dia1)"
   ]
  },
  {
   "cell_type": "markdown",
   "id": "f517082c-0c11-4a6b-a2d3-bdb0b16053d3",
   "metadata": {},
   "source": [
    "Next I will be assessing the current applicability of current AI models in this setting.\n",
    "\n",
    "Next File: [ASSESSING CURRENT LLMS](https://github.com/eakadiri/COMM4190-Final-Project---Developing-a-Triage-ChatBot-/blob/master/Assessing%20Current%20LLMs.ipynb)"
   ]
  },
  {
   "cell_type": "code",
   "execution_count": null,
   "id": "63e8035e-b82c-46eb-ae2e-e097f3232a7a",
   "metadata": {},
   "outputs": [],
   "source": []
  }
 ],
 "metadata": {
  "citation-manager": {
   "items": {}
  },
  "kernelspec": {
   "display_name": "Python 3.11 (COMM4190)",
   "language": "python",
   "name": "comm4190"
  },
  "language_info": {
   "codemirror_mode": {
    "name": "ipython",
    "version": 3
   },
   "file_extension": ".py",
   "mimetype": "text/x-python",
   "name": "python",
   "nbconvert_exporter": "python",
   "pygments_lexer": "ipython3",
   "version": "3.11.7"
  }
 },
 "nbformat": 4,
 "nbformat_minor": 5
}
