{
 "cells": [
  {
   "cell_type": "markdown",
   "id": "fe6cba44-6bb6-45d9-a657-ec214b2702cc",
   "metadata": {},
   "source": [
    "# Use Cases \n",
    "\n",
    "To create some scenarios, I will be using mermaid. \n",
    "\n",
    "- The User represents a healthcare professional/patient depending on the severity of the patient's condition.\n",
    "- The TriageBot represents the AI tool.\n",
    "- The MedSearch represents PubMed \n"
   ]
  },
  {
   "cell_type": "code",
   "execution_count": 1,
   "id": "c746a9f9-7f00-440d-9caf-08c0ff75144e",
   "metadata": {},
   "outputs": [],
   "source": [
    "import sys\n",
    "import base64\n",
    "import zlib\n",
    "from IPython.display import Image,display,SVG"
   ]
  },
  {
   "cell_type": "code",
   "execution_count": 2,
   "id": "c36f7cc4-004c-4e1e-9b08-53e9f55f6333",
   "metadata": {},
   "outputs": [],
   "source": [
    "def mm(diagram):\n",
    "    encoded_diagram = base64.urlsafe_b64encode(zlib.compress(diagram.encode('utf-8'), 9)).decode('ascii')\n",
    "    dia_url = f'https://kroki.io/mermaid/svg/{encoded_diagram}'\n",
    "    display(Image(url=dia_url))"
   ]
  },
  {
   "cell_type": "code",
   "execution_count": null,
   "id": "5c0128fc-a128-485a-a569-938b61ed18cf",
   "metadata": {},
   "outputs": [],
   "source": [
    "dia1 = '''\n",
    "sequenceDiagram\n",
    "    User->>TriageBot: A patient has just arrived to the ER and the traige team needs assistance determining where the patient will go. In the ER, these are the four places the patient could go,  \n",
    "    TriageBot-->>User: What are their symptoms?\n",
    "    User->>Agent: The patient is a child experiencing jerking and an uncontrollable twitching of the limbs.\n",
    "    Agent-->>User: I suggest \n",
    "    '''\n",
    "\n",
    "mm(dia1)"
   ]
  },
  {
   "cell_type": "code",
   "execution_count": null,
   "id": "19660592-2887-46a3-999c-f1103cd22fd6",
   "metadata": {},
   "outputs": [],
   "source": []
  }
 ],
 "metadata": {
  "citation-manager": {
   "items": {}
  },
  "kernelspec": {
   "display_name": "Python 3.11 (COMM4190)",
   "language": "python",
   "name": "comm4190"
  },
  "language_info": {
   "codemirror_mode": {
    "name": "ipython",
    "version": 3
   },
   "file_extension": ".py",
   "mimetype": "text/x-python",
   "name": "python",
   "nbconvert_exporter": "python",
   "pygments_lexer": "ipython3",
   "version": "3.11.7"
  }
 },
 "nbformat": 4,
 "nbformat_minor": 5
}
